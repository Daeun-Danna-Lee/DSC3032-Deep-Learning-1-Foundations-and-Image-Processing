{
  "nbformat": 4,
  "nbformat_minor": 0,
  "metadata": {
    "colab": {
      "name": "LDE-Assignment1.ipynb",
      "provenance": [],
      "collapsed_sections": [],
      "include_colab_link": true
    },
    "kernelspec": {
      "name": "python3",
      "display_name": "Python 3"
    }
  },
  "cells": [
    {
      "cell_type": "markdown",
      "metadata": {
        "id": "view-in-github",
        "colab_type": "text"
      },
      "source": [
        "<a href=\"https://colab.research.google.com/github/Daeun-Danna-Lee/DSC3032-Deep-Learning-1-Foundations-and-Image-Processing/blob/main/LDE_Assignment1.ipynb\" target=\"_parent\"><img src=\"https://colab.research.google.com/assets/colab-badge.svg\" alt=\"Open In Colab\"/></a>"
      ]
    },
    {
      "cell_type": "markdown",
      "metadata": {
        "id": "42CRdtcCRTuc"
      },
      "source": [
        "# Assignment 1 – Polynomial Regression using ``torch.nn.Module``\n",
        "\n",
        "- Please create a copy of this notebook onto your own Drive before working on it: `File-->Save a copy in Drive`\n",
        "- Please submit your ipynb file named with your initials, e.g. `YGM-Assignment1.ipynb` with **the CODE cells output visible** to support your answers and **TEXTUAL answers given as comments** in the code cells.\n",
        "- Deadline for submission is **midnight, Friday, March 18th.**"
      ]
    },
    {
      "cell_type": "markdown",
      "metadata": {
        "id": "0KvsIo2UfwO3"
      },
      "source": [
        "## Neural Network Model for Polynomial Regression\n",
        "Your task is to build a neural network for the function $y = x^2 + 3x$\n",
        "\n",
        "Requirements:\n",
        "- You MUST use `torch.nn.Module` to define your neural network class.\n",
        "- The training data should have **10 input values, $x$, and the correct corresponding output values, $y$,** for the function $y = x^2 + 3x$\n",
        "- The NN may have **maximum TWO hidden layers**.\n",
        "- You may use a **maximum of 500 neuron units in each hidden layer**.\n",
        "- You may train over a **maximum of 1000 epochs**.\n",
        "- Use suitable activation functions that have been covered in class.\n",
        "- You MUST use the **Adam optimiser, `torch.optim.Adam()`** and the **MSE loss function**.\n",
        "- **IMPORTANT:** Your model must have a **LOSS OF LESS THAN 0.01** at the end of training.\n",
        "- **Train your model at least 3 times** to see that the final loss value is stable across all three runs.\n",
        "- Print the loss at every 25th iteration.\n",
        "- Test the model on $x=10$.\n",
        "- **Save your training loss** at every iteration.\n",
        "\n",
        "Note:\n",
        "- If your model does not achieve a loss of less than 0.01, you will still be awarded marks for `Q7 – Q10` as long as you can explain your answers accordingly."
      ]
    },
    {
      "cell_type": "code",
      "source": [
        "import torch\n",
        "import torch.nn as nn"
      ],
      "metadata": {
        "id": "glUrKjOxvi2N"
      },
      "execution_count": null,
      "outputs": []
    },
    {
      "cell_type": "code",
      "source": [
        "# 1. Define training data for a the mathematical formula y = x^2 + 3x (3)\n",
        "x = torch.tensor([[1],[2],[3],[4],[5],[6],[7],[8],[9],[10]], dtype=torch.float32)\n",
        "y = torch.tensor([[4],[10],[18],[28],[40],[54],[70],[88],[108],[130]], dtype=torch.float32)\n",
        "# x = torch.tensor([[1],[4],[9],[16],[25],[36],[49],[64],[81],[100]], dtype=torch.float32)\n",
        "# y = torch.tensor([[4],[28],[108],[304],[700],[1404],[2548],[4288],[6804],[10300]], dtype=torch.float32)\n",
        "\n",
        "# x_li = []\n",
        "# for x in range(1, 11):\n",
        "#   x_li.append(x**2)\n",
        "#   print(f\"[{x**2}],\", end=\"\")\n",
        "\n",
        "# print()\n",
        "\n",
        "# for x in x_li:\n",
        "#   y = x**2 + 3*x\n",
        "#   print(\"[{}],\".format(y), end=\"\")"
      ],
      "metadata": {
        "id": "FfUEr0vivklI"
      },
      "execution_count": null,
      "outputs": []
    },
    {
      "cell_type": "code",
      "source": [
        "# 2. Define NN class (10)\n",
        "class MyModel(nn.Module):\n",
        "    \n",
        "    def __init__(self, hidden_size):\n",
        "        super().__init__()\n",
        "        self.linear1 = nn.Linear(1, hidden_size)\n",
        "        self.activation = nn.ReLU()\n",
        "        self.linear2 = nn.Linear(hidden_size, 1) \n",
        "    \n",
        "    def forward(self, x):\n",
        "        x = self.linear1(x)\n",
        "        x = self.activation(x)\n",
        "        x = self.linear2(x)\n",
        "        return x"
      ],
      "metadata": {
        "id": "gpfs6AqMwQkj"
      },
      "execution_count": null,
      "outputs": []
    },
    {
      "cell_type": "code",
      "source": [
        "# 3. Create an instance of NN model (2)\n",
        "hidden_size = 400\n",
        "model = MyModel(hidden_size)"
      ],
      "metadata": {
        "id": "qiugowQPwij2"
      },
      "execution_count": null,
      "outputs": []
    },
    {
      "cell_type": "code",
      "source": [
        "# 4. Loss and Optimiser (2)\n",
        "learning_rate = 0.1\n",
        "loss_fn = nn.MSELoss()\n",
        "opt = torch.optim.Adam(model.parameters(), lr=learning_rate)"
      ],
      "metadata": {
        "id": "IGzgn2cBwrae"
      },
      "execution_count": null,
      "outputs": []
    },
    {
      "cell_type": "code",
      "source": [
        "# 5. Training loop\n",
        "num_epochs = 1000\n",
        "saved_loss = []\n",
        "\n",
        "for epoch in range(num_epochs):\n",
        "  # 5.1 Forward pass (2)\n",
        "  y_pred = model(x)\n",
        "  loss = loss_fn(y_pred, y) \n",
        "\n",
        "  # 5.2 Backward pass (3)\n",
        "  opt.zero_grad() \n",
        "  loss.backward()\n",
        "  opt.step()\n",
        "\n",
        "  # 5.3 Print loss every 25th epoch (1)\n",
        "  if (epoch+1) % 25 == 0:\n",
        "    print(f'Epoch {epoch+1}/{num_epochs}, Loss={loss.item():.4f} ')\n",
        "\n",
        "  # 5.4 Save training loss at every epoch (2)\n",
        "  saved_loss.append(loss.item())\n",
        "\n",
        "# Ensure that loss is less than 0.01 at the end if training consistently (3)\n"
      ],
      "metadata": {
        "colab": {
          "base_uri": "https://localhost:8080/"
        },
        "id": "zVP2rycrwx_9",
        "outputId": "21d0faf5-35f5-45c5-b3a6-37b7d824ae50"
      },
      "execution_count": null,
      "outputs": [
        {
          "output_type": "stream",
          "name": "stdout",
          "text": [
            "Epoch 25/1000, Loss=53.4011 \n",
            "Epoch 50/1000, Loss=24.4947 \n",
            "Epoch 75/1000, Loss=10.4219 \n",
            "Epoch 100/1000, Loss=4.8078 \n",
            "Epoch 125/1000, Loss=2.4435 \n",
            "Epoch 150/1000, Loss=1.4424 \n",
            "Epoch 175/1000, Loss=0.8846 \n",
            "Epoch 200/1000, Loss=0.6024 \n",
            "Epoch 225/1000, Loss=0.4509 \n",
            "Epoch 250/1000, Loss=0.3385 \n",
            "Epoch 275/1000, Loss=0.2544 \n",
            "Epoch 300/1000, Loss=0.1950 \n",
            "Epoch 325/1000, Loss=0.1543 \n",
            "Epoch 350/1000, Loss=0.1271 \n",
            "Epoch 375/1000, Loss=0.1093 \n",
            "Epoch 400/1000, Loss=0.0977 \n",
            "Epoch 425/1000, Loss=0.0885 \n",
            "Epoch 450/1000, Loss=0.0799 \n",
            "Epoch 475/1000, Loss=0.0719 \n",
            "Epoch 500/1000, Loss=0.0644 \n",
            "Epoch 525/1000, Loss=0.0575 \n",
            "Epoch 550/1000, Loss=0.0512 \n",
            "Epoch 575/1000, Loss=0.0454 \n",
            "Epoch 600/1000, Loss=0.0401 \n",
            "Epoch 625/1000, Loss=0.0353 \n",
            "Epoch 650/1000, Loss=0.0310 \n",
            "Epoch 675/1000, Loss=0.0271 \n",
            "Epoch 700/1000, Loss=0.0236 \n",
            "Epoch 725/1000, Loss=0.0205 \n",
            "Epoch 750/1000, Loss=0.0177 \n",
            "Epoch 775/1000, Loss=0.0153 \n",
            "Epoch 800/1000, Loss=0.0132 \n",
            "Epoch 825/1000, Loss=0.0113 \n",
            "Epoch 850/1000, Loss=0.0096 \n",
            "Epoch 875/1000, Loss=0.0082 \n",
            "Epoch 900/1000, Loss=0.0070 \n",
            "Epoch 925/1000, Loss=0.0059 \n",
            "Epoch 950/1000, Loss=0.0050 \n",
            "Epoch 975/1000, Loss=0.0042 \n",
            "Epoch 1000/1000, Loss=0.0035 \n"
          ]
        }
      ]
    },
    {
      "cell_type": "code",
      "source": [
        "# 6. Visualize (3)\n",
        "# Plot the landscape of your training loss (MSE loss) saved for every epoch.\n",
        "# y-axis would mean MSE loss and x-axis would mean the epoch of your training.\n",
        "# Hint: you should plot (1,first MSE loss), ... ,(last epoch number,last MSE loss)\n",
        "import numpy as np\n",
        "import matplotlib.pyplot as plt\n",
        "\n",
        "# Plot the graph\n",
        "plt.title(\"Loss Over Different Weight Values for the Linear Function y=3x+2\")\n",
        "plt.plot([i for i in range(num_epochs)], saved_loss)\n",
        "plt.xlabel('Epoch #')\n",
        "plt.ylabel('MSE Loss')\n",
        "plt.show()"
      ],
      "metadata": {
        "id": "xXWhlxrmLBSl",
        "colab": {
          "base_uri": "https://localhost:8080/",
          "height": 295
        },
        "outputId": "3b0cc03f-7c28-4a6f-a674-f713fba8c7f2"
      },
      "execution_count": null,
      "outputs": [
        {
          "output_type": "display_data",
          "data": {
            "text/plain": [
              "<Figure size 432x288 with 1 Axes>"
            ],
            "image/png": "[encoded data removed]"
          },
          "metadata": {
            "needs_background": "light"
          }
        }
      ]
    },
    {
      "cell_type": "code",
      "metadata": {
        "id": "zatxfhYejeB8",
        "colab": {
          "base_uri": "https://localhost:8080/"
        },
        "outputId": "83939ab1-d055-43d6-afc9-30a19822893c"
      },
      "source": [
        "# 7. Prediction (2)\n",
        "# Let's use the model on a new number x, defined as a tensor\n",
        "test_num = 10\n",
        "test = torch.tensor([test_num], dtype=torch.float32)\n",
        "\n",
        "# Get the model's prediction for this new x\n",
        "print(f'\\n\\nModel prediction for {test_num} is {model(test).item():.4f}')"
      ],
      "execution_count": null,
      "outputs": [
        {
          "output_type": "stream",
          "name": "stdout",
          "text": [
            "\n",
            "\n",
            "Model prediction for 10 is 129.9093\n"
          ]
        }
      ]
    },
    {
      "cell_type": "code",
      "metadata": {
        "id": "RvmHgY1oDLiB",
        "colab": {
          "base_uri": "https://localhost:8080/"
        },
        "outputId": "9fa3be7c-fe6e-4be2-fd61-ddee8cddbb90"
      },
      "source": [
        "# Make sure the output of your code cells support your answers below:\n",
        "\n",
        "# Q8. Describe how the loss changed over time during training. (2)\n",
        "# A8. It genuinely decreased, rarely fluctuated.\n",
        "\n",
        "# Q9. Is the prediction for x=10 close enough to the ideal value of 130? \n",
        "# Why do you think the prediction is or isn't close enough to the ideal value? (2)\n",
        "# A9. Yes, for x=10, since 10 is close to the range of input values.\n",
        "\n",
        "# Q10. What are the predictions for x=20 and x=100? Based on these predictions, \n",
        "# comment on whether the model has captured the relationship between the training inputs and outputs. (2)\n",
        "for test_num in [20, 100]:\n",
        "  test = torch.tensor([test_num], dtype=torch.float32)\n",
        "  print(f'\\n\\nModel prediction for {test_num} is {model(test).item():.4f} (Real Value: {test_num**2 + 3*test_num}, loss: {test_num**2 + 3*test_num - model(test).item():.4f})')\n",
        "# A10. Not really. The loss is too big. I think 20 and 100 is far apart from input values, so it was hard for model to predict the right value.\n",
        "# So I tried to enlarge the gap between input values(from 1 to 100), then the prediction for 20, 100 got much better. (on More Tests)\n",
        "\n",
        "# Q11. Apart from tweaking the number of epochs and the number of neuron units in the hidden layer, think\n",
        "# of AT LEAST ONE more thing you would do to try to improve the model. You do NOT have to follow the \n",
        "# requirements nor to implement anything. (1)\n",
        "# A11. I might be able to try to change the learning rate, structure of layers, number of inputs, and a type of activation function.\n"
      ],
      "execution_count": null,
      "outputs": [
        {
          "output_type": "stream",
          "name": "stdout",
          "text": [
            "\n",
            "\n",
            "Model prediction for 20 is 348.0074 (Real Value: 460, loss: 111.9926)\n",
            "\n",
            "\n",
            "Model prediction for 100 is 2092.7356 (Real Value: 10300, loss: 8207.2644)\n"
          ]
        }
      ]
    },
    {
      "cell_type": "markdown",
      "source": [
        "## More Tests"
      ],
      "metadata": {
        "id": "jZq_zjpE7f7j"
      }
    },
    {
      "cell_type": "code",
      "source": [
        "# desired vs. predicted (until 10)\n",
        "max_num = 10\n",
        "plt.plot([i for i in range(max_num)], [model(torch.tensor([i], dtype=torch.float32)).item() for i in range(max_num)], label=\"predicted\")\n",
        "plt.plot([i for i in range(max_num)], [i**2 + i*3 for i in range(max_num)], label=\"real\")\n",
        "plt.xlabel('i')\n",
        "plt.legend()\n",
        "plt.show()"
      ],
      "metadata": {
        "colab": {
          "base_uri": "https://localhost:8080/",
          "height": 279
        },
        "id": "kPoOovbn1noB",
        "outputId": "23443182-0c40-4853-e504-f667247dedde"
      },
      "execution_count": null,
      "outputs": [
        {
          "output_type": "display_data",
          "data": {
            "text/plain": [
              "<Figure size 432x288 with 1 Axes>"
            ],
            "image/png": "[encoded data removed]"
          },
          "metadata": {
            "needs_background": "light"
          }
        }
      ]
    },
    {
      "cell_type": "code",
      "source": [
        "# desired vs. predicted (until 100)\n",
        "max_num = 100\n",
        "plt.plot([i for i in range(max_num)], [model(torch.tensor([i], dtype=torch.float32)).item() for i in range(max_num)], label=\"predicted\")\n",
        "plt.plot([i for i in range(max_num)], [i**2 + i*3 for i in range(max_num)], label=\"real\")\n",
        "plt.xlabel('i')\n",
        "plt.legend()\n",
        "plt.show()"
      ],
      "metadata": {
        "colab": {
          "base_uri": "https://localhost:8080/",
          "height": 279
        },
        "id": "ZMewUhAL6lIl",
        "outputId": "ec93a2df-2e5c-48c0-b094-674964aa6e1a"
      },
      "execution_count": null,
      "outputs": [
        {
          "output_type": "display_data",
          "data": {
            "text/plain": [
              "<Figure size 432x288 with 1 Axes>"
            ],
            "image/png": "[encoded data removed]"
          },
          "metadata": {
            "needs_background": "light"
          }
        }
      ]
    },
    {
      "cell_type": "markdown",
      "source": [
        "The model was trained with limitied input values, between 1-10, so we can see that it cannot cover larger values then that.\n",
        "\n",
        "So I tried to test different input values which are between 1 to 100."
      ],
      "metadata": {
        "id": "wRJ2k4md626U"
      }
    },
    {
      "cell_type": "code",
      "source": [
        "# input values changed to 1 to 100\n",
        "x = torch.tensor([[1],[4],[9],[16],[25],[36],[49],[64],[81],[100]], dtype=torch.float32)\n",
        "y = torch.tensor([[4],[28],[108],[304],[700],[1404],[2548],[4288],[6804],[10300]], dtype=torch.float32)\n",
        "\n",
        "hidden_size = 400\n",
        "model = MyModel(hidden_size)\n",
        "\n",
        "learning_rate = 0.1\n",
        "loss_fn = nn.MSELoss()\n",
        "opt = torch.optim.Adam(model.parameters(), lr=learning_rate)\n",
        "\n",
        "num_epochs = 1000\n",
        "saved_loss = []\n",
        "\n",
        "for epoch in range(num_epochs):\n",
        "  y_pred = model(x)\n",
        "  loss = loss_fn(y_pred, y) \n",
        "\n",
        "  opt.zero_grad() \n",
        "  loss.backward()\n",
        "  opt.step()\n",
        "\n",
        "max_num = 100\n",
        "plt.plot([i for i in range(max_num)], [model(torch.tensor([i], dtype=torch.float32)).item() for i in range(max_num)], label=\"predicted\")\n",
        "plt.plot([i for i in range(max_num)], [i**2 + i*3 for i in range(max_num)], label=\"real\")\n",
        "plt.xlabel('i')\n",
        "plt.legend()\n",
        "plt.show()"
      ],
      "metadata": {
        "colab": {
          "base_uri": "https://localhost:8080/",
          "height": 279
        },
        "id": "2aPxY9T-myGT",
        "outputId": "4d35560f-9d5b-4aae-814b-e72ff77f1533"
      },
      "execution_count": null,
      "outputs": [
        {
          "output_type": "display_data",
          "data": {
            "text/plain": [
              "<Figure size 432x288 with 1 Axes>"
            ],
            "image/png": "[encoded data removed]"
          },
          "metadata": {
            "needs_background": "light"
          }
        }
      ]
    },
    {
      "cell_type": "markdown",
      "source": [
        "The graph looks much better, but the prediction on x=10 is now less accurate."
      ],
      "metadata": {
        "id": "gG_7HwPt7L0j"
      }
    },
    {
      "cell_type": "code",
      "source": [
        "for test_num in [10, 20, 100]:\n",
        "  test = torch.tensor([test_num], dtype=torch.float32)\n",
        "  print(f'\\n\\nModel prediction for {test_num} is {model(test).item():.4f} (Real Value: {test_num**2 + 3*test_num}, loss: {test_num**2 + 3*test_num - model(test).item():.4f})')"
      ],
      "metadata": {
        "colab": {
          "base_uri": "https://localhost:8080/"
        },
        "id": "FxFc7eww6ZoR",
        "outputId": "ba251670-9371-46aa-feb5-3e3424cfed97"
      },
      "execution_count": null,
      "outputs": [
        {
          "output_type": "stream",
          "name": "stdout",
          "text": [
            "\n",
            "\n",
            "Model prediction for 10 is 90.9728 (Real Value: 130, loss: 39.0272)\n",
            "\n",
            "\n",
            "Model prediction for 20 is 467.6303 (Real Value: 460, loss: -7.6303)\n",
            "\n",
            "\n",
            "Model prediction for 100 is 10024.5117 (Real Value: 10300, loss: 275.4883)\n"
          ]
        }
      ]
    },
    {
      "cell_type": "code",
      "source": [
        ""
      ],
      "metadata": {
        "id": "YCrOHtfL7We6"
      },
      "execution_count": null,
      "outputs": []
    }
  ]
}