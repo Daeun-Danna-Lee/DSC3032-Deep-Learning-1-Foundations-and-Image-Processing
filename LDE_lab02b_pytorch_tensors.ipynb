{
  "nbformat": 4,
  "nbformat_minor": 0,
  "metadata": {
    "colab": {
      "name": "LDE-lab02b-pytorch-tensors.ipynb",
      "provenance": [],
      "collapsed_sections": [],
      "include_colab_link": true
    },
    "kernelspec": {
      "name": "python3",
      "display_name": "Python 3"
    },
    "language_info": {
      "name": "python"
    }
  },
  "cells": [
    {
      "cell_type": "markdown",
      "metadata": {
        "id": "view-in-github",
        "colab_type": "text"
      },
      "source": [
        "<a href=\"https://colab.research.google.com/github/Daeun-Danna-Lee/DSC3032-Deep-Learning-1-Foundations-and-Image-Processing/blob/main/LDE_lab02b_pytorch_tensors.ipynb\" target=\"_parent\"><img src=\"https://colab.research.google.com/assets/colab-badge.svg\" alt=\"Open In Colab\"/></a>"
      ]
    },
    {
      "cell_type": "markdown",
      "metadata": {
        "id": "FEH-hBlqcKa1"
      },
      "source": [
        "# Lab 2b – Tensors"
      ]
    },
    {
      "cell_type": "code",
      "metadata": {
        "id": "uWjkXtKltY_K"
      },
      "source": [
        "import torch"
      ],
      "execution_count": 2,
      "outputs": []
    },
    {
      "cell_type": "markdown",
      "metadata": {
        "id": "D3yBh-vOv3WH"
      },
      "source": [
        "## Create empty tensors\n",
        "- Uninitialised tensors"
      ]
    },
    {
      "cell_type": "code",
      "metadata": {
        "id": "ERfCA-Fntg2w",
        "colab": {
          "base_uri": "https://localhost:8080/"
        },
        "outputId": "f5b5c0f3-0820-4310-eb06-36914d2cabf8"
      },
      "source": [
        "# 1-D\n",
        "x = torch.empty(1)\n",
        "print(x)\n",
        "\n",
        "# 1-D with two elements\n",
        "x = torch.empty(2)\n",
        "print(f\"\\n1-D tensor\\n{x}\\n\")\n",
        "\n",
        "# 2-D\n",
        "x = torch.empty(2,3)\n",
        "print(f\"2-D tensor\\n{x}\\n\")\n",
        "\n",
        "# 3-D\n",
        "x = torch.empty(2,3,1)\n",
        "print(\"3-D tensor\\n\",x)\n"
      ],
      "execution_count": null,
      "outputs": [
        {
          "output_type": "stream",
          "name": "stdout",
          "text": [
            "tensor([-6.0276e+17])\n",
            "\n",
            "1-D tensor\n",
            "tensor([-6.0278e+17,  3.0789e-41])\n",
            "\n",
            "2-D tensor\n",
            "tensor([[-6.0279e+17,  3.0789e-41,  5.0447e-44],\n",
            "        [ 0.0000e+00,         nan,  0.0000e+00]])\n",
            "\n",
            "3-D tensor\n",
            " tensor([[[-6.0278e+17],\n",
            "         [ 3.0789e-41],\n",
            "         [ 5.0447e-44]],\n",
            "\n",
            "        [[ 0.0000e+00],\n",
            "         [        nan],\n",
            "         [ 0.0000e+00]]])\n"
          ]
        }
      ]
    },
    {
      "cell_type": "markdown",
      "metadata": {
        "id": "xO6cW7hlwAsO"
      },
      "source": [
        "## Initialise tensors to scalar, random values, zeros or ones"
      ]
    },
    {
      "cell_type": "code",
      "metadata": {
        "id": "3nyX0btVwD6J",
        "colab": {
          "base_uri": "https://localhost:8080/"
        },
        "outputId": "bb7addee-bb97-4974-badf-865df66aaea0"
      },
      "source": [
        "# 0-D tensor (just containing scalar value 3)\n",
        "x = torch.tensor(3)\n",
        "print(f'Scalar: {x} has shape {x.shape} and {x.ndim} dimensions\\n')\n",
        "\n",
        "# Random values in the interval [0,1]\n",
        "x = torch.rand(2,3)\n",
        "print(f\"Random values:\\n{x}\")\n",
        "print(x.dtype)\n",
        "\n",
        "# Zeros\n",
        "x = torch.zeros(2,3)\n",
        "print(f\"\\nZeros:\\n{x}\")\n",
        "print(x.dtype)\n",
        "\n",
        "x = torch.zeros(2,3, dtype=torch.int)\n",
        "print(f\"\\nZeros:\\n{x}\\n\")\n",
        "\n",
        "# Ones\n",
        "x = torch.ones(2,3)\n",
        "print(f\"Ones:\\n{x}\")\n",
        "print(f\"Type: {x.dtype}\\n\")\n",
        "\n",
        "x = torch.ones(2,3, dtype=torch.double)\n",
        "print(f\"Ones:\\n{x}\")"
      ],
      "execution_count": null,
      "outputs": [
        {
          "output_type": "stream",
          "name": "stdout",
          "text": [
            "Scalar: 3 has shape torch.Size([]) and 0 dimensions\n",
            "\n",
            "Random values:\n",
            "tensor([[0.4996, 0.7491, 0.0885],\n",
            "        [0.0020, 0.7871, 0.8457]])\n",
            "torch.float32\n",
            "\n",
            "Zeros:\n",
            "tensor([[0., 0., 0.],\n",
            "        [0., 0., 0.]])\n",
            "torch.float32\n",
            "\n",
            "Zeros:\n",
            "tensor([[0, 0, 0],\n",
            "        [0, 0, 0]], dtype=torch.int32)\n",
            "\n",
            "Ones:\n",
            "tensor([[1., 1., 1.],\n",
            "        [1., 1., 1.]])\n",
            "Type: torch.float32\n",
            "\n",
            "Ones:\n",
            "tensor([[1., 1., 1.],\n",
            "        [1., 1., 1.]], dtype=torch.float64)\n"
          ]
        }
      ]
    },
    {
      "cell_type": "markdown",
      "metadata": {
        "id": "BEAEHoY1xAzC"
      },
      "source": [
        "## Construct tensor from data"
      ]
    },
    {
      "cell_type": "code",
      "metadata": {
        "id": "6Vd7iHsaxFh0",
        "colab": {
          "base_uri": "https://localhost:8080/"
        },
        "outputId": "fe6e31d1-74d1-43dd-850e-d0e17aab27fd"
      },
      "source": [
        "# Change a list to a tensor\n",
        "x = torch.tensor([0.5, 2.7])\n",
        "print(x)"
      ],
      "execution_count": null,
      "outputs": [
        {
          "output_type": "stream",
          "name": "stdout",
          "text": [
            "tensor([0.5000, 2.7000])\n"
          ]
        }
      ]
    },
    {
      "cell_type": "markdown",
      "metadata": {
        "id": "SwIelnjsiTus"
      },
      "source": [
        "### Changing tensor data type\n"
      ]
    },
    {
      "cell_type": "code",
      "metadata": {
        "id": "JZxbB4-XiXCp",
        "colab": {
          "base_uri": "https://localhost:8080/"
        },
        "outputId": "aae1ccf4-067a-4870-b1d3-18b116293870"
      },
      "source": [
        "x = torch.rand(2,3) * 20\n",
        "print(x)\n",
        "\n",
        "# Change to integer\n",
        "y = x.to(torch.int32)\n",
        "print(y)"
      ],
      "execution_count": null,
      "outputs": [
        {
          "output_type": "stream",
          "name": "stdout",
          "text": [
            "tensor([[ 6.7044,  7.1875,  5.1709],\n",
            "        [19.9458,  9.0731, 16.1240]])\n",
            "tensor([[ 6,  7,  5],\n",
            "        [19,  9, 16]], dtype=torch.int32)\n"
          ]
        }
      ]
    },
    {
      "cell_type": "markdown",
      "metadata": {
        "id": "eWuSDswYm3wo"
      },
      "source": [
        "### Create a separate copy\n",
        "\n"
      ]
    },
    {
      "cell_type": "code",
      "metadata": {
        "id": "g76w-tQSm62P",
        "colab": {
          "base_uri": "https://localhost:8080/"
        },
        "outputId": "7ee153a5-4db2-4521-b569-fdef1a337af2"
      },
      "source": [
        "a = torch.ones(2, 2)\n",
        "b = a.clone()\n",
        "\n",
        "a[0][1] = 561          # a changes...\n",
        "print(b)               # ...but b is still all ones"
      ],
      "execution_count": null,
      "outputs": [
        {
          "output_type": "stream",
          "name": "stdout",
          "text": [
            "tensor([[1., 1.],\n",
            "        [1., 1.]])\n"
          ]
        }
      ]
    },
    {
      "cell_type": "markdown",
      "metadata": {
        "id": "gPoj6eMq0Mgg"
      },
      "source": [
        "## Basic tensor operations\n",
        "\n",
        "- addition, subtraction, multiplication, division"
      ]
    },
    {
      "cell_type": "code",
      "metadata": {
        "id": "hJ6zOX9k0Ouw",
        "colab": {
          "base_uri": "https://localhost:8080/"
        },
        "outputId": "1abbe0f1-0b77-45e1-adfc-5a24cb707eb7"
      },
      "source": [
        "x = torch.rand(2,2)\n",
        "print(f\"x = \\n{x}\\n\")\n",
        "\n",
        "y = torch.rand(2,2)\n",
        "print(f\"y = \\n{y}\\n\")\n",
        "\n",
        "z = torch.add(x,y) # same as z = x + y\n",
        "print(\"x + y = \")\n",
        "print(z)\n",
        "\n",
        "z = torch.sub(x,y) # same as z = x - y\n",
        "print(\"x - y = \")\n",
        "print(z)\n",
        "\n",
        "z = torch.mul(x,y) # same as z = x * y\n",
        "print(\"x * y = \")\n",
        "print(z)\n",
        "\n",
        "z = torch.div(x,y) # same as z = x / y\n",
        "print(\"x / y = \")\n",
        "print(z)\n"
      ],
      "execution_count": null,
      "outputs": [
        {
          "output_type": "stream",
          "name": "stdout",
          "text": [
            "x = \n",
            "tensor([[0.5169, 0.4687],\n",
            "        [0.0945, 0.2002]])\n",
            "\n",
            "y = \n",
            "tensor([[0.0873, 0.3404],\n",
            "        [0.6591, 0.4333]])\n",
            "\n",
            "x + y = \n",
            "tensor([[0.6042, 0.8091],\n",
            "        [0.7536, 0.6335]])\n",
            "x - y = \n",
            "tensor([[ 0.4296,  0.1282],\n",
            "        [-0.5647, -0.2330]])\n",
            "x * y = \n",
            "tensor([[0.0451, 0.1595],\n",
            "        [0.0623, 0.0868]])\n",
            "x / y = \n",
            "tensor([[5.9194, 1.3767],\n",
            "        [0.1433, 0.4622]])\n"
          ]
        }
      ]
    },
    {
      "cell_type": "markdown",
      "metadata": {
        "id": "Yt2iZ5Wr4qTk"
      },
      "source": [
        "### Inplace operations\n",
        "\n",
        "- any function with a trailing underscore (e.g. ``add_``) will modify the value of the variable in question, in place"
      ]
    },
    {
      "cell_type": "code",
      "metadata": {
        "id": "1xvGeIBw4wM5",
        "colab": {
          "base_uri": "https://localhost:8080/"
        },
        "outputId": "1a4cf211-7b88-4cfa-ffb0-7b224813ec16"
      },
      "source": [
        "x = torch.rand(2,2)\n",
        "print(f\"x = \\n{x}\\n\")\n",
        "\n",
        "y = torch.rand(2,2)\n",
        "print(f\"y = \\n{y}\\n\")\n",
        "\n",
        "# Inplace operations\n",
        "y.add_(x) # modify y by adding x to it\n",
        "print(f\"y + x = {y}\")\n",
        "\n",
        "y.sub_(x) # modify y by subtracting x from it\n",
        "print(f\"y - x = {y}\")\n",
        "\n",
        "y.mul_(x) # modify y by multiplying x to it\n",
        "print(f\"y * x = {y}\")\n",
        "\n",
        "y.div_(x) # modify y by dividing it by x\n",
        "print(f\"y / x = {y}\")\n"
      ],
      "execution_count": null,
      "outputs": [
        {
          "output_type": "stream",
          "name": "stdout",
          "text": [
            "x = \n",
            "tensor([[0.5586, 0.1001],\n",
            "        [0.0762, 0.9484]])\n",
            "\n",
            "y = \n",
            "tensor([[0.0188, 0.2372],\n",
            "        [0.6615, 0.5568]])\n",
            "\n",
            "y + x = tensor([[0.5774, 0.3372],\n",
            "        [0.7377, 1.5051]])\n",
            "y - x = tensor([[0.0188, 0.2372],\n",
            "        [0.6615, 0.5568]])\n",
            "y * x = tensor([[0.0105, 0.0237],\n",
            "        [0.0504, 0.5280]])\n",
            "y / x = tensor([[0.0188, 0.2372],\n",
            "        [0.6615, 0.5568]])\n"
          ]
        }
      ]
    },
    {
      "cell_type": "markdown",
      "metadata": {
        "id": "51KxaSwqO5Xf"
      },
      "source": [
        "## Accessing tensors"
      ]
    },
    {
      "cell_type": "code",
      "metadata": {
        "id": "pIN1M0FxPB6m"
      },
      "source": [
        "# Slicing\n",
        "x = torch.rand(5,3)\n",
        "print(x)\n",
        "\n",
        "# Get all rows but only first column\n",
        "print(x[:, 0])\n",
        "\n",
        "# Get all columns but only the second row\n",
        "print(x[1, :])\n",
        "\n",
        "# Get a specific element\n",
        "print(x[2,2])\n",
        "\n",
        "# When the tensor returns only ONE element, use item() to get the actual value of that element\n",
        "print(x[1,1].item())\n",
        "\n",
        "y = torch.tensor([2.0])\n",
        "print(y.item())"
      ],
      "execution_count": null,
      "outputs": []
    },
    {
      "cell_type": "markdown",
      "metadata": {
        "id": "oRirOVqNYodz"
      },
      "source": [
        "## Tensor Shape & Dimensions\n",
        "- The number of dimensions a tensor has is called its rank and the length in each dimension describes its ``shape``.\n",
        "- To determine the length of each dimension, call ``.shape``\n",
        "- To determine the number of dimensions it has, call ``.ndim``\n"
      ]
    },
    {
      "cell_type": "code",
      "metadata": {
        "id": "OsWYSWvkY19a"
      },
      "source": [
        "x = torch.rand(5,3)\n",
        "print(f'{x} \\nhas shape {x.shape} and {x.ndim} dimensions\\n')"
      ],
      "execution_count": null,
      "outputs": []
    },
    {
      "cell_type": "markdown",
      "metadata": {
        "id": "B2q-gFywUWUh"
      },
      "source": [
        "## More on Shapes\n",
        "\n",
        "- `[1,5,2,6]` has shape (4,) to indicate it has 4 elements and the missing element after the comma means it is a 1-D tensor or array (vector)\n",
        "- `[[1,5,2,6], [1,2,3,1]]` has shape (2,4) to indicate it has 2 elements (rows) and each of these have 4 elements (columns). This is a 2-D tensor or array (matrix or a list of vectors)\n",
        "- `[[[1,5,2,6], [1,2,3,1]], [[5,2,1,2], [6,4,3,2]], [[7,8,5,3], [2,2,9,6]]]` has shape (3, 2, 4) to indicate it has 3 elements in the first dimension, and each of these contain 2 elements and each of these contain 4 elements. This is a 3-D tensor or array\n"
      ]
    },
    {
      "cell_type": "markdown",
      "metadata": {
        "id": "pw4hm1KndIrY"
      },
      "source": [
        "## Operations on tensor dimensions\n",
        "- A tensor dimension is akin to an array's axis. The number of dimensions is called rank.\n",
        "- A scalar has rank 0, a vector has rank 1, a matrix has rank 2, a cuboid has rank 3, etc.\n",
        "- Sometimes one wants to do an operation only on a particular dimension, e.g. on the rows only\n",
        "- Across ``dim=X`` means we do the operation w.r.t to the dimension given and the rest of the dimensions of the tensor stays as they are\n",
        "- in 2-D tensors, ``dim=0`` refers to the columns while ``dim=1`` refers to the rows\n"
      ]
    },
    {
      "cell_type": "code",
      "metadata": {
        "id": "zPATRKKYFWqm"
      },
      "source": [
        "x = torch.tensor([[1,2,3],\n",
        "                 [4,5,6]])\n",
        "\n",
        "print(x.shape)\n",
        "print(f'Summing across dim=0 (columns) gives: {torch.sum(x,dim=0)}')\n",
        "\n",
        "print(f'Summing across dim=1 (rows) gives: {torch.sum(x,dim=1)}')\n"
      ],
      "execution_count": null,
      "outputs": []
    },
    {
      "cell_type": "markdown",
      "metadata": {
        "id": "JVqsBwKrTYiC"
      },
      "source": [
        "## Reshaping tensors\n",
        "- There are several ways to do this but using ``torch.reshape()`` is the most common\n",
        "- Also look up ``torch.squeeze(), torch.unsqueeze()`` and ``torch.view()``\n"
      ]
    },
    {
      "cell_type": "code",
      "metadata": {
        "id": "hxJhXnj9Tbu7"
      },
      "source": [
        "x = torch.rand(4,4)\n",
        "print(\"Original:\")\n",
        "print(x)\n",
        "print(x.shape)\n",
        "\n",
        "# Reshape (flatten) to 1-D\n",
        "y = x.reshape(16) # number of elements must be the same as original, error otherwise\n",
        "print(\"Reshaped to 1-D:\")\n",
        "print(y)\n",
        "\n",
        "# Reshape to 2-D\n",
        "y = x.reshape(8,2)\n",
        "print(\"Reshaped to 2-D:\")\n",
        "print(y)\n",
        "\n",
        "# Could leave out one of the dimensions by specifying -1\n",
        "y = x.reshape(2, -1)\n",
        "print(\"Reshaped to 2 x Unspecified 2-D:\")\n",
        "print(y)\n",
        "print(y.shape)\n",
        "\n",
        "# Could use unsqueeze(0) to add a dimension at position 0\n",
        "y = x.unsqueeze(0)\n",
        "print(f'Using unsqueeze(0) to add dimension from original shape {x.shape} to {y.shape}')"
      ],
      "execution_count": null,
      "outputs": []
    },
    {
      "cell_type": "markdown",
      "metadata": {
        "id": "-I4TqJ0gWPmP"
      },
      "source": [
        "## Convert between NumPy and PyTorch tensors\n",
        "\n",
        "- Tensors can work on CPUs and GPUs\n",
        "- NumPy arrays can only work on CPUs"
      ]
    },
    {
      "cell_type": "code",
      "metadata": {
        "id": "w_8klvVsWZ7t"
      },
      "source": [
        "import torch\n",
        "import numpy as np\n",
        "\n",
        "# Tensor to NumPy\n",
        "a = torch.ones(5)\n",
        "print(a)\n",
        "\n",
        "b = a.numpy()\n",
        "print(b)\n",
        "print(type(b))\n",
        "\n",
        "# b changes when a is modified because they share the same memory space!\n",
        "a.add_(1)\n",
        "print(a)\n",
        "print(b)"
      ],
      "execution_count": null,
      "outputs": []
    },
    {
      "cell_type": "code",
      "metadata": {
        "id": "w5WaMa1aXyfb"
      },
      "source": [
        "import torch\n",
        "import numpy as np\n",
        "\n",
        "a = np.ones(5)\n",
        "print(a)\n",
        "\n",
        "b = torch.from_numpy(a)\n",
        "print(b)\n",
        "\n",
        "# Modifying array will modify the tensor as well\n",
        "a += 2\n",
        "print(a)\n",
        "print(b)"
      ],
      "execution_count": null,
      "outputs": []
    },
    {
      "cell_type": "markdown",
      "metadata": {
        "id": "UFesCS2x7aWa"
      },
      "source": [
        "# Exercise"
      ]
    },
    {
      "cell_type": "code",
      "metadata": {
        "id": "shmdcMiB7cKz",
        "colab": {
          "base_uri": "https://localhost:8080/"
        },
        "outputId": "da8abd6c-d57d-424f-8670-fe6ecf0a694a"
      },
      "source": [
        "# 1. Create a tensor of 100 equally spaced numbers from 0 to 2.\n",
        "# Assign the tensor to x (Hint: use torch.linspace() )\n",
        "x = torch.linspace(0, 2, 100)\n",
        "\n",
        "# Print x\n",
        "print(x)"
      ],
      "execution_count": 3,
      "outputs": [
        {
          "output_type": "stream",
          "name": "stdout",
          "text": [
            "tensor([0.0000, 0.0202, 0.0404, 0.0606, 0.0808, 0.1010, 0.1212, 0.1414, 0.1616,\n",
            "        0.1818, 0.2020, 0.2222, 0.2424, 0.2626, 0.2828, 0.3030, 0.3232, 0.3434,\n",
            "        0.3636, 0.3838, 0.4040, 0.4242, 0.4444, 0.4646, 0.4848, 0.5051, 0.5253,\n",
            "        0.5455, 0.5657, 0.5859, 0.6061, 0.6263, 0.6465, 0.6667, 0.6869, 0.7071,\n",
            "        0.7273, 0.7475, 0.7677, 0.7879, 0.8081, 0.8283, 0.8485, 0.8687, 0.8889,\n",
            "        0.9091, 0.9293, 0.9495, 0.9697, 0.9899, 1.0101, 1.0303, 1.0505, 1.0707,\n",
            "        1.0909, 1.1111, 1.1313, 1.1515, 1.1717, 1.1919, 1.2121, 1.2323, 1.2525,\n",
            "        1.2727, 1.2929, 1.3131, 1.3333, 1.3535, 1.3737, 1.3939, 1.4141, 1.4343,\n",
            "        1.4545, 1.4747, 1.4949, 1.5152, 1.5354, 1.5556, 1.5758, 1.5960, 1.6162,\n",
            "        1.6364, 1.6566, 1.6768, 1.6970, 1.7172, 1.7374, 1.7576, 1.7778, 1.7980,\n",
            "        1.8182, 1.8384, 1.8586, 1.8788, 1.8990, 1.9192, 1.9394, 1.9596, 1.9798,\n",
            "        2.0000])\n"
          ]
        }
      ]
    },
    {
      "cell_type": "code",
      "metadata": {
        "id": "oUVp1YHh7wDX",
        "colab": {
          "base_uri": "https://localhost:8080/"
        },
        "outputId": "94966016-50b8-4a3d-85c9-d90e12ab8205"
      },
      "source": [
        "# 3. Print the first 5 numbers in x.\n",
        "print(x[:5])\n",
        "\n",
        "# 4. Print the last 5 numbers in x\n",
        "print(x[-5:])"
      ],
      "execution_count": 5,
      "outputs": [
        {
          "output_type": "stream",
          "name": "stdout",
          "text": [
            "tensor([0.0000, 0.0202, 0.0404, 0.0606, 0.0808])\n",
            "tensor([1.9192, 1.9394, 1.9596, 1.9798, 2.0000])\n"
          ]
        }
      ]
    },
    {
      "cell_type": "code",
      "metadata": {
        "id": "8tCONVqtAmvL",
        "colab": {
          "base_uri": "https://localhost:8080/"
        },
        "outputId": "6d95fc90-a38f-423c-8c46-66a68c23471f"
      },
      "source": [
        "# 5. Create another tensor of 100 random values between 0 and 1.\n",
        "# Assign the tensor to y (Hint: use torch.rand() )\n",
        "y = torch.rand(100)\n",
        "\n",
        "# Print y\n",
        "print(y)"
      ],
      "execution_count": 6,
      "outputs": [
        {
          "output_type": "stream",
          "name": "stdout",
          "text": [
            "tensor([0.9460, 0.4955, 0.2558, 0.8057, 0.8946, 0.1908, 0.8680, 0.4461, 0.7542,\n",
            "        0.7817, 0.7043, 0.4110, 0.6490, 0.2202, 0.0651, 0.2421, 0.4005, 0.0953,\n",
            "        0.2357, 0.1501, 0.4231, 0.5264, 0.1079, 0.6403, 0.9358, 0.1437, 0.7637,\n",
            "        0.9527, 0.5059, 0.0783, 0.3313, 0.9624, 0.4867, 0.7159, 0.0216, 0.9729,\n",
            "        0.1445, 0.9912, 0.7065, 0.4402, 0.9152, 0.4096, 0.0035, 0.4001, 0.9128,\n",
            "        0.7320, 0.7262, 0.4299, 0.8767, 0.9280, 0.3704, 0.7142, 0.3828, 0.0358,\n",
            "        0.3004, 0.9013, 0.4511, 0.7748, 0.7221, 0.5459, 0.8182, 0.7978, 0.0100,\n",
            "        0.7805, 0.3762, 0.6941, 0.3997, 0.2398, 0.4852, 0.2943, 0.2519, 0.5475,\n",
            "        0.1109, 0.4413, 0.9988, 0.3521, 0.6020, 0.8042, 0.9803, 0.2024, 0.8025,\n",
            "        0.2840, 0.3738, 0.6714, 0.6338, 0.7009, 0.3994, 0.2815, 0.8065, 0.1880,\n",
            "        0.5809, 0.0165, 0.3997, 0.2710, 0.1610, 0.9879, 0.0631, 0.1285, 0.8672,\n",
            "        0.3042])\n"
          ]
        }
      ]
    },
    {
      "cell_type": "code",
      "metadata": {
        "id": "0nowe-YHB2in",
        "colab": {
          "base_uri": "https://localhost:8080/"
        },
        "outputId": "777e70a8-40fa-422a-f30d-72092ed91c96"
      },
      "source": [
        "# 6. Multiply x and y, store the result in z\n",
        "z = torch.mul(x, y)\n",
        "\n",
        "# Print z\n",
        "print(z)"
      ],
      "execution_count": 7,
      "outputs": [
        {
          "output_type": "stream",
          "name": "stdout",
          "text": [
            "tensor([0.0000, 0.0100, 0.0103, 0.0488, 0.0723, 0.0193, 0.1052, 0.0631, 0.1219,\n",
            "        0.1421, 0.1423, 0.0913, 0.1573, 0.0578, 0.0184, 0.0734, 0.1294, 0.0327,\n",
            "        0.0857, 0.0576, 0.1709, 0.2233, 0.0479, 0.2975, 0.4537, 0.0726, 0.4011,\n",
            "        0.5197, 0.2862, 0.0459, 0.2008, 0.6027, 0.3146, 0.4773, 0.0148, 0.6879,\n",
            "        0.1051, 0.7409, 0.5424, 0.3468, 0.7395, 0.3393, 0.0030, 0.3476, 0.8113,\n",
            "        0.6654, 0.6748, 0.4081, 0.8501, 0.9186, 0.3741, 0.7358, 0.4021, 0.0383,\n",
            "        0.3277, 1.0014, 0.5103, 0.8922, 0.8461, 0.6506, 0.9918, 0.9832, 0.0126,\n",
            "        0.9934, 0.4864, 0.9115, 0.5330, 0.3246, 0.6666, 0.4103, 0.3562, 0.7852,\n",
            "        0.1613, 0.6508, 1.4932, 0.5335, 0.9243, 1.2510, 1.5448, 0.3230, 1.2969,\n",
            "        0.4647, 0.6192, 1.1258, 1.0755, 1.2035, 0.6939, 0.4948, 1.4338, 0.3380,\n",
            "        1.0562, 0.0303, 0.7430, 0.5091, 0.3057, 1.8960, 0.1223, 0.2519, 1.7170,\n",
            "        0.6083])\n"
          ]
        }
      ]
    },
    {
      "cell_type": "code",
      "metadata": {
        "id": "E3lmTYJgCJur",
        "colab": {
          "base_uri": "https://localhost:8080/"
        },
        "outputId": "cc624638-0868-4f8d-c039-a1262ec3251a"
      },
      "source": [
        "# 7. Reshape z to a tensor with 5 rows and 20 columns\n",
        "# Store reshaped tensor to z2\n",
        "z2 = z.reshape(5, 20)\n",
        "\n",
        "# Print z2\n",
        "print(z2)"
      ],
      "execution_count": 9,
      "outputs": [
        {
          "output_type": "stream",
          "name": "stdout",
          "text": [
            "tensor([[0.0000, 0.0100, 0.0103, 0.0488, 0.0723, 0.0193, 0.1052, 0.0631, 0.1219,\n",
            "         0.1421, 0.1423, 0.0913, 0.1573, 0.0578, 0.0184, 0.0734, 0.1294, 0.0327,\n",
            "         0.0857, 0.0576],\n",
            "        [0.1709, 0.2233, 0.0479, 0.2975, 0.4537, 0.0726, 0.4011, 0.5197, 0.2862,\n",
            "         0.0459, 0.2008, 0.6027, 0.3146, 0.4773, 0.0148, 0.6879, 0.1051, 0.7409,\n",
            "         0.5424, 0.3468],\n",
            "        [0.7395, 0.3393, 0.0030, 0.3476, 0.8113, 0.6654, 0.6748, 0.4081, 0.8501,\n",
            "         0.9186, 0.3741, 0.7358, 0.4021, 0.0383, 0.3277, 1.0014, 0.5103, 0.8922,\n",
            "         0.8461, 0.6506],\n",
            "        [0.9918, 0.9832, 0.0126, 0.9934, 0.4864, 0.9115, 0.5330, 0.3246, 0.6666,\n",
            "         0.4103, 0.3562, 0.7852, 0.1613, 0.6508, 1.4932, 0.5335, 0.9243, 1.2510,\n",
            "         1.5448, 0.3230],\n",
            "        [1.2969, 0.4647, 0.6192, 1.1258, 1.0755, 1.2035, 0.6939, 0.4948, 1.4338,\n",
            "         0.3380, 1.0562, 0.0303, 0.7430, 0.5091, 0.3057, 1.8960, 0.1223, 0.2519,\n",
            "         1.7170, 0.6083]])\n"
          ]
        }
      ]
    },
    {
      "cell_type": "code",
      "metadata": {
        "id": "eVWgsb3VPBoS",
        "colab": {
          "base_uri": "https://localhost:8080/"
        },
        "outputId": "d98d9231-76f6-4aaf-8b4d-1445d95d1c9e"
      },
      "source": [
        "# 8. Get the sum of each row in z2\n",
        "print(torch.sum(z2, dim=1))\n",
        "\n",
        "# 9. Get the mean of each column in z2\n",
        "print(torch.sum(z2, dim=0))"
      ],
      "execution_count": 10,
      "outputs": [
        {
          "output_type": "stream",
          "name": "stdout",
          "text": [
            "tensor([ 1.4391,  6.5522, 11.5365, 14.3365, 15.9859])\n",
            "tensor([3.1992, 2.0205, 0.6930, 2.8131, 2.8992, 2.8723, 2.4080, 1.8103, 3.3586,\n",
            "        1.8549, 2.1296, 2.2455, 1.7784, 1.7333, 2.1599, 4.1922, 1.7914, 3.1687,\n",
            "        4.7359, 1.9864])\n"
          ]
        }
      ]
    },
    {
      "cell_type": "code",
      "metadata": {
        "id": "444o5Ge0DSCp",
        "colab": {
          "base_uri": "https://localhost:8080/"
        },
        "outputId": "d4378abd-c2cd-471d-8835-81990f397456"
      },
      "source": [
        "# 10. Reshape z to a 3D tensor (keep all the elements)\n",
        "# Store reshaped tensor to z3\n",
        "z3 = z.reshape(2, 5, 10)\n",
        "\n",
        "# Print z3\n",
        "print(z3)"
      ],
      "execution_count": 19,
      "outputs": [
        {
          "output_type": "stream",
          "name": "stdout",
          "text": [
            "tensor([[[0.0000, 0.0100, 0.0103, 0.0488, 0.0723, 0.0193, 0.1052, 0.0631,\n",
            "          0.1219, 0.1421],\n",
            "         [0.1423, 0.0913, 0.1573, 0.0578, 0.0184, 0.0734, 0.1294, 0.0327,\n",
            "          0.0857, 0.0576],\n",
            "         [0.1709, 0.2233, 0.0479, 0.2975, 0.4537, 0.0726, 0.4011, 0.5197,\n",
            "          0.2862, 0.0459],\n",
            "         [0.2008, 0.6027, 0.3146, 0.4773, 0.0148, 0.6879, 0.1051, 0.7409,\n",
            "          0.5424, 0.3468],\n",
            "         [0.7395, 0.3393, 0.0030, 0.3476, 0.8113, 0.6654, 0.6748, 0.4081,\n",
            "          0.8501, 0.9186]],\n",
            "\n",
            "        [[0.3741, 0.7358, 0.4021, 0.0383, 0.3277, 1.0014, 0.5103, 0.8922,\n",
            "          0.8461, 0.6506],\n",
            "         [0.9918, 0.9832, 0.0126, 0.9934, 0.4864, 0.9115, 0.5330, 0.3246,\n",
            "          0.6666, 0.4103],\n",
            "         [0.3562, 0.7852, 0.1613, 0.6508, 1.4932, 0.5335, 0.9243, 1.2510,\n",
            "          1.5448, 0.3230],\n",
            "         [1.2969, 0.4647, 0.6192, 1.1258, 1.0755, 1.2035, 0.6939, 0.4948,\n",
            "          1.4338, 0.3380],\n",
            "         [1.0562, 0.0303, 0.7430, 0.5091, 0.3057, 1.8960, 0.1223, 0.2519,\n",
            "          1.7170, 0.6083]]])\n"
          ]
        }
      ]
    },
    {
      "cell_type": "code",
      "source": [
        ""
      ],
      "metadata": {
        "id": "uNu9GUN4OIWr"
      },
      "execution_count": null,
      "outputs": []
    }
  ]
}